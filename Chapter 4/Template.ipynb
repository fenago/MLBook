{
 "cells": [
  {
   "cell_type": "code",
   "execution_count": null,
   "id": "60997ed7",
   "metadata": {},
   "outputs": [],
   "source": [
    "#Import your Libraries\n",
    "import numpy as np\n",
    "import pandas as pd\n",
    "from matplotlib import pyplot as plt\n",
    "import seaborn as sns\n",
    "import sklearn.metrics as metrics\n",
    "%matplotlib inline"
   ]
  },
  {
   "cell_type": "code",
   "execution_count": null,
   "id": "aeca5db9",
   "metadata": {},
   "outputs": [],
   "source": []
  },
  {
   "cell_type": "code",
   "execution_count": null,
   "id": "5420a69b",
   "metadata": {},
   "outputs": [],
   "source": [
    "# %%timeit -n 1\n",
    "# Load your data  -- start with CreditScoring.csv... then online retail\n",
    "df = pd.read_csv('./data/<put your data here>')"
   ]
  },
  {
   "cell_type": "markdown",
   "id": "6a984b9b",
   "metadata": {},
   "source": [
    "### Basic Data Exploration"
   ]
  },
  {
   "cell_type": "code",
   "execution_count": null,
   "id": "0e356edb",
   "metadata": {},
   "outputs": [],
   "source": [
    "df.head()"
   ]
  },
  {
   "cell_type": "code",
   "execution_count": null,
   "id": "2ca19c9a",
   "metadata": {},
   "outputs": [],
   "source": [
    "df.shape"
   ]
  },
  {
   "cell_type": "code",
   "execution_count": null,
   "id": "62e442ad",
   "metadata": {},
   "outputs": [],
   "source": [
    "df.describe()"
   ]
  },
  {
   "cell_type": "code",
   "execution_count": null,
   "id": "c5e8360e",
   "metadata": {},
   "outputs": [],
   "source": [
    "df.columns"
   ]
  },
  {
   "cell_type": "code",
   "execution_count": null,
   "id": "1414fab4",
   "metadata": {},
   "outputs": [],
   "source": [
    "# Check for nulls --- you do NOT want nulls when you train\n",
    "df.isnull().sum()"
   ]
  },
  {
   "cell_type": "markdown",
   "id": "0b5390dc",
   "metadata": {},
   "source": [
    "### Performing Univariate Analysis"
   ]
  },
  {
   "cell_type": "code",
   "execution_count": null,
   "id": "ca94ea54",
   "metadata": {},
   "outputs": [],
   "source": [
    "# Replace with your target variable --- df.YOUR_TARGET_VARIABLE  \n",
    "# Look for major data imbalances\n",
    "# Also replace your X label\n",
    "# REPLACE YOUR TARGET VARIABLE\n",
    "plt.figure(figsize=(6, 4))\n",
    "\n",
    "sns.histplot(df.<replace with your target variable>, bins=40, color='black', alpha=1)\n",
    "plt.ylabel('Frequency')\n",
    "plt.xlabel('<replace with your target variable>')\n",
    "plt.title('PUT A LABEL ON IT')\n",
    "\n",
    "plt.show()"
   ]
  },
  {
   "cell_type": "markdown",
   "id": "e07275b1",
   "metadata": {},
   "source": [
    "### Performing Bivariate Analysis"
   ]
  },
  {
   "cell_type": "code",
   "execution_count": null,
   "id": "4a0f127f",
   "metadata": {},
   "outputs": [],
   "source": [
    "# Replace with your target variable --- df.YOUR_TARGET_VARIABLE  \n",
    "# Look for major data imbalances\n",
    "# Also replace your X label\n",
    "# REPLACE YOUR TARGET VARIABLE\n",
    "plt.figure(figsize=(6, 4))\n",
    "\n",
    "sns.relplot(df.<replace with your target variable>, bins=40, color='black', alpha=1)\n",
    "plt.ylabel('Target Variable')\n",
    "plt.xlabel('<replace with your independent variable>')\n",
    "plt.title('PUT A LABEL ON IT')\n",
    "\n",
    "plt.show()"
   ]
  },
  {
   "cell_type": "markdown",
   "id": "8046ac8f",
   "metadata": {},
   "source": [
    "### Saperating Target variable and Independent Variables"
   ]
  },
  {
   "cell_type": "code",
   "execution_count": null,
   "id": "0554dba3",
   "metadata": {},
   "outputs": [],
   "source": [
    "#Split the y out into train/test/splits... these are numpy ndarrays ... msrp is your target variables\n",
    "# Replace with your target variable!!! \n",
    "X = df.drop(['target'], axis=1)\n",
    "y = df['target']"
   ]
  },
  {
   "cell_type": "markdown",
   "id": "5d073d3f",
   "metadata": {},
   "source": [
    "### Train and Test Split"
   ]
  },
  {
   "cell_type": "code",
   "execution_count": null,
   "id": "88c7df64",
   "metadata": {},
   "outputs": [],
   "source": [
    "# Split the data into test, train, 70/30\n",
    "X_train, X_test, y_train, y_test = train_test_split(X, y, test_size=0.3,, random_state=101)"
   ]
  },
  {
   "cell_type": "markdown",
   "id": "3c48b64a",
   "metadata": {},
   "source": [
    "### Feature Scaling"
   ]
  },
  {
   "cell_type": "code",
   "execution_count": null,
   "id": "cc25f8f9",
   "metadata": {},
   "outputs": [],
   "source": [
    "#import scaling function as per the requirement\n",
    "from sklearn.preprocessing import MinMaxScaler, StandardScaler\n",
    "\n",
    "#pass your feature values to the desired scaling function\n",
    "scaler = MinMaxScaler()\n",
    "df_scaled[col_names]=scaler.fit_transform(features.values)\n",
    "df_scaled"
   ]
  },
  {
   "cell_type": "markdown",
   "id": "872e9d25",
   "metadata": {},
   "source": [
    "### Visualizaing Correlated Features using heatmap"
   ]
  },
  {
   "cell_type": "code",
   "execution_count": null,
   "id": "c2214e1f",
   "metadata": {},
   "outputs": [],
   "source": [
    "#This may need to check the correlation between the variables using heatmap\n",
    "corr = X_train.corr()\n",
    "fig, ax = plt.subplots()\n",
    "fig.set_size_inches(11,11)\n",
    "sns.heatmap(corr)"
   ]
  },
  {
   "cell_type": "markdown",
   "id": "698bf465",
   "metadata": {},
   "source": [
    "### Feature selction"
   ]
  },
  {
   "cell_type": "code",
   "execution_count": null,
   "id": "2712573b",
   "metadata": {},
   "outputs": [],
   "source": [
    "#import the feature selection type from the sklearn.feature_selection module\n",
    "from sklearn.feature_selection import xxxxxxxxxxxx\n",
    "#pass your x and y to the feature selection function and save the results to the variable\n",
    "result = featureselection(x, y)"
   ]
  },
  {
   "cell_type": "markdown",
   "id": "635b8b81",
   "metadata": {},
   "source": [
    "### Model Building using Sklearn"
   ]
  },
  {
   "cell_type": "code",
   "execution_count": null,
   "id": "781412e5",
   "metadata": {},
   "outputs": [],
   "source": [
    "# %%timeit -n 1\n",
    "# if you uncomment %%timeit it will not put lr into memory\n",
    "# Fit the model - this will take some time and will burn CPU (not MEMORY)\n",
    "lr = LinearRegression().fit(X_train, y_train)"
   ]
  },
  {
   "cell_type": "markdown",
   "id": "da4a8895",
   "metadata": {},
   "source": [
    "### Model Building using 'Stats Model'"
   ]
  },
  {
   "cell_type": "code",
   "execution_count": null,
   "id": "2b709819",
   "metadata": {},
   "outputs": [],
   "source": [
    "#replace your training data and run the below code to build the model using\n",
    "#statsmodels\n",
    "\n",
    "import statsmodels.api as sm\n",
    "\n",
    "# Add a constant\n",
    "X_train_lm1 = sm.add_constant(Traindata)\n",
    "\n",
    "# Create a first fitted model\n",
    "model = sm.OLS(y_train, X_train_lm1).fit()"
   ]
  },
  {
   "cell_type": "code",
   "execution_count": null,
   "id": "d2145eb8",
   "metadata": {},
   "outputs": [],
   "source": [
    "# Check the parameters obtained by fitting the above model(Beta values)\n",
    "model.params"
   ]
  },
  {
   "cell_type": "code",
   "execution_count": null,
   "id": "cc886705",
   "metadata": {},
   "outputs": [],
   "source": [
    "# Check the VIF to validate the multicolinearity assumption\n",
    "variance_inflation_factor(xxxxx)\n",
    "\n",
    "#remove variables having the values greater than 10"
   ]
  },
  {
   "cell_type": "code",
   "execution_count": null,
   "id": "318bb617",
   "metadata": {},
   "outputs": [],
   "source": [
    "# Below code helps to check the summary of the model\n",
    "\n",
    "model.summary()"
   ]
  },
  {
   "cell_type": "code",
   "execution_count": null,
   "id": "145f1111",
   "metadata": {},
   "outputs": [],
   "source": [
    "# Below code helps us to validate the errors following normal distribution assumption\n",
    "\n",
    "sns.displot(#pass residuals)"
   ]
  },
  {
   "cell_type": "code",
   "execution_count": null,
   "id": "fd1a3675",
   "metadata": {},
   "outputs": [],
   "source": [
    "# Below code helps you check the linearly between dependent and independent variables\n",
    "sns.pairplot(df, diag_kind='kde')"
   ]
  },
  {
   "cell_type": "markdown",
   "id": "28186854",
   "metadata": {},
   "source": [
    "### Model Evaluation"
   ]
  },
  {
   "cell_type": "code",
   "execution_count": null,
   "id": "13850790",
   "metadata": {},
   "outputs": [],
   "source": [
    "# we can use below plot to understand the spread\n",
    "fig = plt.figure()\n",
    "\n",
    "plt.scatter(y_actual, y_predicted)"
   ]
  },
  {
   "cell_type": "code",
   "execution_count": null,
   "id": "5b47c2c1",
   "metadata": {},
   "outputs": [],
   "source": [
    "# Check the r2 value\n",
    "from sklearn.metrics import r2_score\n",
    "r2_score(y_actual, y_predicted)"
   ]
  }
 ],
 "metadata": {
  "kernelspec": {
   "display_name": "Python 3",
   "language": "python",
   "name": "python3"
  },
  "language_info": {
   "codemirror_mode": {
    "name": "ipython",
    "version": 3
   },
   "file_extension": ".py",
   "mimetype": "text/x-python",
   "name": "python",
   "nbconvert_exporter": "python",
   "pygments_lexer": "ipython3",
   "version": "3.8.8"
  }
 },
 "nbformat": 4,
 "nbformat_minor": 5
}
