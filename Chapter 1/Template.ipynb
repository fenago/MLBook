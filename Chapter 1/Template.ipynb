{
 "cells": [
  {
   "cell_type": "code",
   "execution_count": null,
   "id": "60997ed7",
   "metadata": {},
   "outputs": [],
   "source": [
    "#Import your Libraries\n",
    "import numpy as np\n",
    "import pandas as pd\n",
    "from matplotlib import pyplot as plt\n",
    "import seaborn as sns\n",
    "import sklearn.metrics as metrics\n",
    "%matplotlib inline"
   ]
  },
  {
   "cell_type": "code",
   "execution_count": null,
   "id": "5420a69b",
   "metadata": {},
   "outputs": [],
   "source": [
    "# %%timeit -n 1\n",
    "# Load your data  -- start with CreditScoring.csv... then online retail\n",
    "df = pd.read_csv('./data/<put your data here>')"
   ]
  },
  {
   "cell_type": "markdown",
   "id": "6a984b9b",
   "metadata": {},
   "source": [
    "### Basic Data Exploration"
   ]
  },
  {
   "cell_type": "code",
   "execution_count": null,
   "id": "0e356edb",
   "metadata": {},
   "outputs": [],
   "source": [
    "df.head()"
   ]
  },
  {
   "cell_type": "code",
   "execution_count": null,
   "id": "2ca19c9a",
   "metadata": {},
   "outputs": [],
   "source": [
    "df.shape"
   ]
  },
  {
   "cell_type": "code",
   "execution_count": null,
   "id": "62e442ad",
   "metadata": {},
   "outputs": [],
   "source": [
    "df.describe()"
   ]
  },
  {
   "cell_type": "code",
   "execution_count": null,
   "id": "c5e8360e",
   "metadata": {},
   "outputs": [],
   "source": [
    "df.columns"
   ]
  },
  {
   "cell_type": "markdown",
   "id": "0b5390dc",
   "metadata": {},
   "source": [
    "### Creating visualization to gain the insights"
   ]
  },
  {
   "cell_type": "code",
   "execution_count": null,
   "id": "ca94ea54",
   "metadata": {},
   "outputs": [],
   "source": [
    "# Replace with your target variable --- df.YOUR_TARGET_VARIABLE  \n",
    "# Look for major data imbalances\n",
    "# Also replace your X label\n",
    "# REPLACE YOUR TARGET VARIABLE\n",
    "plt.figure(figsize=(6, 4))\n",
    "\n",
    "sns.histplot(df.<replace with your target variable>, bins=40, color='black', alpha=1)\n",
    "plt.ylabel('Frequency')\n",
    "plt.xlabel('<replace with your target variable>')\n",
    "plt.title('PUT A LABEL ON IT')\n",
    "\n",
    "plt.show()"
   ]
  },
  {
   "cell_type": "code",
   "execution_count": null,
   "id": "1414fab4",
   "metadata": {},
   "outputs": [],
   "source": [
    "# Check for nulls --- you do NOT want nulls when you train\n",
    "df.isnull().sum()"
   ]
  }
 ],
 "metadata": {
  "kernelspec": {
   "display_name": "Python 3",
   "language": "python",
   "name": "python3"
  },
  "language_info": {
   "codemirror_mode": {
    "name": "ipython",
    "version": 3
   },
   "file_extension": ".py",
   "mimetype": "text/x-python",
   "name": "python",
   "nbconvert_exporter": "python",
   "pygments_lexer": "ipython3",
   "version": "3.8.8"
  }
 },
 "nbformat": 4,
 "nbformat_minor": 5
}
