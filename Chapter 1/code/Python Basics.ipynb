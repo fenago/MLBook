{
 "cells": [
  {
   "cell_type": "code",
   "execution_count": null,
   "id": "b1931557",
   "metadata": {},
   "outputs": [],
   "source": [
    "# Assigning value to variable and printing the variable\n",
    "tenth = 10\n",
    "tenth"
   ]
  },
  {
   "cell_type": "code",
   "execution_count": null,
   "id": "4424eef9",
   "metadata": {},
   "outputs": [],
   "source": [
    "X=5\n",
    "y = 10\n",
    "\n",
    "print(X,y)"
   ]
  },
  {
   "cell_type": "code",
   "execution_count": null,
   "id": "83fbf94f",
   "metadata": {},
   "outputs": [],
   "source": [
    "# integers\n",
    "a = 7\n",
    "print(a)\n",
    "\n",
    "# How to check type of variable\n",
    "print(type(a))"
   ]
  },
  {
   "cell_type": "code",
   "execution_count": null,
   "id": "755880d1",
   "metadata": {},
   "outputs": [],
   "source": [
    "# float\n",
    "x = 1.5\n",
    "print(x)\n",
    "\n",
    "# How to check type of variable\n",
    "print(type(x))"
   ]
  },
  {
   "cell_type": "code",
   "execution_count": null,
   "id": "dcd13ad2",
   "metadata": {},
   "outputs": [],
   "source": [
    "# boolean\n",
    "b1 = True\n",
    "b2 = False\n",
    "\n",
    "type(b1)\n"
   ]
  },
  {
   "cell_type": "code",
   "execution_count": null,
   "id": "07355e2d",
   "metadata": {},
   "outputs": [],
   "source": [
    "# string with single quote\n",
    "name1 = 'your name vvgafdasfasfasfa'\n",
    "type(name1)\n",
    "name1"
   ]
  },
  {
   "cell_type": "code",
   "execution_count": null,
   "id": "5e045d8a",
   "metadata": {},
   "outputs": [],
   "source": [
    "# string with double quote\n",
    "name1 = \"your name vvgafdasfasfasfa\"\n",
    "type(name1)\n",
    "name1"
   ]
  },
  {
   "cell_type": "code",
   "execution_count": null,
   "id": "c22e8a77",
   "metadata": {},
   "outputs": [],
   "source": [
    "# string with triple quote\n",
    "name1 = '''\n",
    "your name vvgafdasfasfasfa.\n",
    "your name vvgafdasfasfasfa\n",
    "your name vvgafdasfasfasfa\n",
    "'''\n",
    "type(name1)\n",
    "name1"
   ]
  },
  {
   "cell_type": "code",
   "execution_count": null,
   "id": "a0558dd9",
   "metadata": {},
   "outputs": [],
   "source": [
    "#complex numbers: note the use of `j` to specify \n",
    "#the imaginary part\n",
    "\n",
    "j = 1.0 - 2.0j\n",
    "\n",
    "j"
   ]
  },
  {
   "cell_type": "code",
   "execution_count": null,
   "id": "024fcfb6",
   "metadata": {},
   "outputs": [],
   "source": [
    "ten = 10\n",
    "ten"
   ]
  },
  {
   "cell_type": "code",
   "execution_count": null,
   "id": "a4d4c94c",
   "metadata": {},
   "outputs": [],
   "source": [
    "ten = 'ten'\n",
    "ten"
   ]
  },
  {
   "cell_type": "code",
   "execution_count": null,
   "id": "e318bb44",
   "metadata": {},
   "outputs": [],
   "source": [
    "# Need to convert int to string for concatenate with string\n",
    "'Day ' +str(1)"
   ]
  },
  {
   "cell_type": "code",
   "execution_count": null,
   "id": "71532ca7",
   "metadata": {},
   "outputs": [],
   "source": [
    "# can't concatenate string with integer however \n",
    "#we will see concatenation and string comprehention \n",
    "#in a later stage\n",
    "\n",
    "'Day ' + 1"
   ]
  },
  {
   "cell_type": "code",
   "execution_count": null,
   "id": "44d8d332",
   "metadata": {},
   "outputs": [],
   "source": [
    "my_tuple = (1, 2, 3)\n",
    "print(my_tuple)"
   ]
  },
  {
   "cell_type": "code",
   "execution_count": null,
   "id": "d06acc6c",
   "metadata": {},
   "outputs": [],
   "source": [
    "# tuple with mixed data types\n",
    "my_tuple = (1, \"hello\", 3.4)\n",
    "print(my_tuple)"
   ]
  },
  {
   "cell_type": "code",
   "execution_count": null,
   "id": "46a00c9a",
   "metadata": {},
   "outputs": [],
   "source": [
    "#nested tuples\n",
    "my_tuple = (\"hello\", [8, 4, 2], (1,3,5))\n",
    "print(my_tuple)"
   ]
  },
  {
   "cell_type": "code",
   "execution_count": null,
   "id": "6055b65c",
   "metadata": {},
   "outputs": [],
   "source": [
    "my_tuple = 3, 4.5, \"python\"\n",
    "print(my_tuple)"
   ]
  },
  {
   "cell_type": "code",
   "execution_count": null,
   "id": "fdcc386d",
   "metadata": {},
   "outputs": [],
   "source": [
    "a, b, c = my_tuple\n",
    "print(a, b, c)"
   ]
  },
  {
   "cell_type": "code",
   "execution_count": null,
   "id": "c6638814",
   "metadata": {},
   "outputs": [],
   "source": [
    "my_tuple = (\"Hello\")\n",
    "print(type(my_tuple))"
   ]
  },
  {
   "cell_type": "code",
   "execution_count": null,
   "id": "efced62f",
   "metadata": {},
   "outputs": [],
   "source": [
    "#creating a tuple with one element\n",
    "my_tuple = (\"Hello\", )\n",
    "print(type(my_tuple))"
   ]
  },
  {
   "cell_type": "code",
   "execution_count": null,
   "id": "a2087893",
   "metadata": {},
   "outputs": [],
   "source": [
    "my_tuple = \"hello\",\n",
    "print(type(my_tuple))"
   ]
  },
  {
   "cell_type": "code",
   "execution_count": null,
   "id": "91836825",
   "metadata": {},
   "outputs": [],
   "source": [
    "my_tuple = (\"hello\", [8, 4, 2], (1,3,5))\n",
    "print(my_tuple)\n",
    "\n",
    "my_tuple[0]"
   ]
  },
  {
   "cell_type": "code",
   "execution_count": null,
   "id": "f6421b52",
   "metadata": {},
   "outputs": [],
   "source": [
    "# Assign a list to an variable named my_list\n",
    "my_list = [1,2,3]\n",
    "print(type(my_list))"
   ]
  },
  {
   "cell_type": "code",
   "execution_count": null,
   "id": "ab3c016d",
   "metadata": {},
   "outputs": [],
   "source": [
    "my_list = ['A string',23,100.232,'o',True]\n",
    "\n",
    "print(my_list)"
   ]
  },
  {
   "cell_type": "code",
   "execution_count": null,
   "id": "32a56d7c",
   "metadata": {},
   "outputs": [],
   "source": [
    "my_list[1]"
   ]
  },
  {
   "cell_type": "code",
   "execution_count": null,
   "id": "76bb8a24",
   "metadata": {},
   "outputs": [],
   "source": [
    "my_list[-1]"
   ]
  },
  {
   "cell_type": "code",
   "execution_count": null,
   "id": "3b81f610",
   "metadata": {},
   "outputs": [],
   "source": [
    "# Make a dictionary with {} and : to signify a key and a value\n",
    "my_dict = {True:'value1','key2':'value2','key1':'abc'}\n",
    "my_dict"
   ]
  },
  {
   "cell_type": "code",
   "execution_count": null,
   "id": "10883c57",
   "metadata": {},
   "outputs": [],
   "source": [
    "my_dict = {True:'value1','key2':'value2','key1':'valuedfvdfg','key1':'abc'} # Same key check key1 value \n",
    "my_dict"
   ]
  },
  {
   "cell_type": "code",
   "execution_count": null,
   "id": "53f25568",
   "metadata": {},
   "outputs": [],
   "source": [
    "my_dict = {True:'value1','key2':'value2','key1':'valuedfvdfg','key1':'zabc'} # Same key check key1 value\n",
    "my_dict"
   ]
  },
  {
   "cell_type": "code",
   "execution_count": null,
   "id": "61b3374d",
   "metadata": {},
   "outputs": [],
   "source": [
    "# Call values by their key, accessing values based on key\n",
    "my_dict['key2']"
   ]
  },
  {
   "cell_type": "code",
   "execution_count": null,
   "id": "9244b12d",
   "metadata": {},
   "outputs": [],
   "source": [
    "# attempting to access element which is not present in dictionary gives key-error\n",
    "my_dict['3']"
   ]
  },
  {
   "cell_type": "code",
   "execution_count": null,
   "id": "08c66bc1",
   "metadata": {},
   "outputs": [],
   "source": [
    "# Dictionary nested inside a dictionary nested in side a dictionary\n",
    "d = {'key1':{'nestkey':{'subnestkey':'value'}}}\n",
    "d"
   ]
  },
  {
   "cell_type": "code",
   "execution_count": null,
   "id": "04f02e7b",
   "metadata": {},
   "outputs": [],
   "source": [
    "# Create a list with repeats\n",
    "l = [1,1,2,2,3,4,5,6,1,1]\n",
    "\n",
    "# Cast as set to get unique values\n",
    "l = set(l)\n",
    "l"
   ]
  },
  {
   "cell_type": "code",
   "execution_count": null,
   "id": "df242fb4",
   "metadata": {},
   "outputs": [],
   "source": [
    "# Difference between two sets\n",
    "x = {\"ineuron\", \"DS\", \"Bigdata\"}\n",
    "y = {\"bigdata\", \"Apache\", \"pyspark\"}\n",
    "\n",
    "print(x.difference(y))\n",
    "print(y.difference(x))"
   ]
  },
  {
   "cell_type": "code",
   "execution_count": null,
   "id": "d9482e9b",
   "metadata": {},
   "outputs": [],
   "source": [
    "x = set()\n",
    "\n",
    "x"
   ]
  },
  {
   "cell_type": "code",
   "execution_count": null,
   "id": "3a6200a9",
   "metadata": {},
   "outputs": [],
   "source": [
    "# We add to sets with the add() method\n",
    "x.add(3)\n",
    "\n",
    "x"
   ]
  },
  {
   "cell_type": "markdown",
   "id": "8926b896",
   "metadata": {},
   "source": [
    "### NumPy"
   ]
  },
  {
   "cell_type": "code",
   "execution_count": null,
   "id": "1163640c",
   "metadata": {},
   "outputs": [],
   "source": [
    "#1-Dimensional array\n",
    "import numpy as np\n",
    "\n",
    "a = np.array([1,2,3])\n",
    "print(a)"
   ]
  },
  {
   "cell_type": "code",
   "execution_count": null,
   "id": "b2b240cf",
   "metadata": {},
   "outputs": [],
   "source": [
    "#2-D array\n",
    "b = np.array([[1,2,3],[4,5,6]])\n",
    "print(b)"
   ]
  },
  {
   "cell_type": "code",
   "execution_count": null,
   "id": "fd330155",
   "metadata": {},
   "outputs": [],
   "source": [
    "a = np.zeros((2,3))\n",
    "print(a)"
   ]
  },
  {
   "cell_type": "code",
   "execution_count": null,
   "id": "88723205",
   "metadata": {},
   "outputs": [],
   "source": [
    "np.arange(1, 10, 2)"
   ]
  },
  {
   "cell_type": "code",
   "execution_count": null,
   "id": "d9a91f70",
   "metadata": {},
   "outputs": [],
   "source": [
    "np.linspace(5,15,10)"
   ]
  },
  {
   "cell_type": "code",
   "execution_count": null,
   "id": "c43deb62",
   "metadata": {},
   "outputs": [],
   "source": [
    "np.full((2,3),6)"
   ]
  },
  {
   "cell_type": "code",
   "execution_count": null,
   "id": "9c258b0c",
   "metadata": {},
   "outputs": [],
   "source": [
    "np.random.random((3,3))"
   ]
  },
  {
   "cell_type": "code",
   "execution_count": null,
   "id": "f4d82eac",
   "metadata": {},
   "outputs": [],
   "source": [
    "a = np.array([[2,3,4],[5,6,7]])\n",
    "print(a.size)"
   ]
  },
  {
   "cell_type": "code",
   "execution_count": null,
   "id": "88ae1ec2",
   "metadata": {},
   "outputs": [],
   "source": [
    "print(a.shape)"
   ]
  },
  {
   "cell_type": "code",
   "execution_count": null,
   "id": "7334ac57",
   "metadata": {},
   "outputs": [],
   "source": [
    "#insepect the shape of the numpy array\n",
    "print(a, end='\\n\\n')\n",
    "print(\"The original shape of the numpy array is: \",a.shape, end='\\n\\n')\n",
    "\n",
    "#reshape\n",
    "a.shape = (3,2)\n",
    "print(\"The shape of the numpy array after reshape is: \",a.shape, end='\\n\\n')\n",
    "print(a)"
   ]
  },
  {
   "cell_type": "code",
   "execution_count": null,
   "id": "c8d7d88d",
   "metadata": {},
   "outputs": [],
   "source": [
    "a = np.arange(24)\n",
    "print(a, end='\\n\\n')\n",
    "\n",
    "print(\"The dimension of a is \",a.ndim)"
   ]
  },
  {
   "cell_type": "code",
   "execution_count": null,
   "id": "65442d68",
   "metadata": {},
   "outputs": [],
   "source": [
    "#reshape the NumPy array\n",
    "b = a.reshape(2,2,6)\n",
    "print(\"The dimension of reshape array is \",b.ndim, end='\\n\\n')\n",
    "\n",
    "print(b, end='\\n\\n')\n",
    "print(\"The shape of b is\", b.shape)"
   ]
  },
  {
   "cell_type": "code",
   "execution_count": null,
   "id": "5dd16ca7",
   "metadata": {},
   "outputs": [],
   "source": [
    "#additon using values\n",
    "print(np.sum([10,20]))\n",
    "\n",
    "#addition using variables\n",
    "a, b = 10, 20\n",
    "print(np.sum([a, b]))\n",
    "\n",
    "#addtion on 2d array\n",
    "print(np.sum([[1,2],[3,4]]))"
   ]
  },
  {
   "cell_type": "code",
   "execution_count": null,
   "id": "93cd315d",
   "metadata": {},
   "outputs": [],
   "source": [
    "#row wise\n",
    "print(\"row wise addition: \",np.sum([[1,2],[3,4]], axis=1))\n",
    "\n",
    "#column wise\n",
    "print(\"column wise addition: \",np.sum([[1,2],[3,4]], axis=0))"
   ]
  },
  {
   "cell_type": "code",
   "execution_count": null,
   "id": "6abf47d7",
   "metadata": {},
   "outputs": [],
   "source": [
    "#subtraction\n",
    "print(np.subtract(20, 10))"
   ]
  },
  {
   "cell_type": "code",
   "execution_count": null,
   "id": "922c8daf",
   "metadata": {},
   "outputs": [],
   "source": [
    "np.multiply(2,3)"
   ]
  },
  {
   "cell_type": "code",
   "execution_count": null,
   "id": "e7d3963e",
   "metadata": {},
   "outputs": [],
   "source": [
    "np.divide(10,5)"
   ]
  },
  {
   "cell_type": "code",
   "execution_count": null,
   "id": "68ecbf61",
   "metadata": {},
   "outputs": [],
   "source": [
    "from numpy.random import randint as ri\n",
    "mat = np.array(ri(10,100,15)).reshape(3,5)\n",
    "print(\"Matrix of random 2-digit numbers\\n--------------------------------\\n\",mat)\n",
    "mat>50"
   ]
  },
  {
   "cell_type": "code",
   "execution_count": null,
   "id": "f2b92178",
   "metadata": {},
   "outputs": [],
   "source": [
    "print (\"Elements greater than 50\\n\", mat[mat>50])"
   ]
  },
  {
   "cell_type": "code",
   "execution_count": null,
   "id": "137c01ef",
   "metadata": {},
   "outputs": [],
   "source": [
    "mat = np.array([[11,12,13],[21,22,23],[31,32,33]])\n",
    "print(\"Original matrix\")\n",
    "print(mat)"
   ]
  },
  {
   "cell_type": "code",
   "execution_count": null,
   "id": "1b60da4d",
   "metadata": {},
   "outputs": [],
   "source": [
    "mat_slice = mat[:2,:2]\n",
    "print (\"\\nSliced matrix\")\n",
    "print(mat_slice)"
   ]
  },
  {
   "cell_type": "code",
   "execution_count": null,
   "id": "015b5d23",
   "metadata": {},
   "outputs": [],
   "source": [
    "print (\"\\nChange the sliced matrix\")\n",
    "mat_slice[0,0] = 1000\n",
    "print (mat_slice)"
   ]
  },
  {
   "cell_type": "markdown",
   "id": "7823ea97",
   "metadata": {},
   "source": [
    "### Pandas"
   ]
  },
  {
   "cell_type": "code",
   "execution_count": null,
   "id": "539c7166",
   "metadata": {},
   "outputs": [],
   "source": [
    "import pandas as pd\n",
    " \n",
    "XYZ_web= {'Day':[1,2,3,4,5,6], \"Visitors\":[1000, 700,6000,1000,400,350], \n",
    "          \"Bounce_Rate\":[20,20, 23,15,10,34]}\n",
    " \n",
    "df= pd.DataFrame(XYZ_web)\n",
    " \n",
    "df"
   ]
  },
  {
   "cell_type": "code",
   "execution_count": null,
   "id": "e36a297e",
   "metadata": {},
   "outputs": [],
   "source": [
    "df.head(2)"
   ]
  },
  {
   "cell_type": "code",
   "execution_count": null,
   "id": "255a8b7f",
   "metadata": {},
   "outputs": [],
   "source": [
    "df.tail(2)"
   ]
  },
  {
   "cell_type": "code",
   "execution_count": null,
   "id": "1055b87c",
   "metadata": {},
   "outputs": [],
   "source": [
    "import pandas as pd\n",
    " \n",
    "df1= pd.DataFrame({ \"HPI\":[80,90,70,60],\"Int_Rate\":[2,1,2,3],\n",
    "                   \"IND_GDP\":[50,45,45,67]}, index=[2001, 2002,2003,2004])\n",
    " \n",
    "df2=pd.DataFrame({ \"HPI\":[80,90,70,60],\"Int_Rate\":[2,1,2,3],\n",
    "                  \"IND_GDP\":[50,45,45,67]}, index=[2005, 2006,2007,2008])\n",
    " \n",
    "merged= pd.merge(df1,df2)\n",
    "\n",
    "merged"
   ]
  },
  {
   "cell_type": "code",
   "execution_count": null,
   "id": "3ac0a3dd",
   "metadata": {},
   "outputs": [],
   "source": [
    "df1 = pd.DataFrame({\"HPI\":[80,90,70,60],\"Int_Rate\":[2,1,2,3], \n",
    "                    \"IND_GDP\":[50,45,45,67]}, index=[2001, 2002,2003,2004])\n",
    " \n",
    "df2 = pd.DataFrame({\"HPI\":[80,90,70,60],\"Int_Rate\":[2,1,2,3],\n",
    "                    \"IND_GDP\":[50,45,45,67]}, index=[2005, 2006,2007,2008])\n",
    " \n",
    "merged= pd.merge(df1,df2,on =\"HPI\")\n",
    " \n",
    "merged"
   ]
  },
  {
   "cell_type": "code",
   "execution_count": null,
   "id": "282b85b5",
   "metadata": {},
   "outputs": [],
   "source": [
    "df1 = pd.DataFrame({\"Int_Rate\":[2,1,2,3], \"IND_GDP\":[50,45,45,67]}, \n",
    "                   index=[2001, 2002,2003,2004])\n",
    " \n",
    "df2 = pd.DataFrame({\"Low_Tier_HPI\":[50,45,67,34],\"Unemployment\":[1,3,5,6]}, \n",
    "                   index=[2001, 2003,2004,2004])\n",
    " \n",
    "joined= df1.join(df2)\n",
    "joined"
   ]
  },
  {
   "cell_type": "code",
   "execution_count": null,
   "id": "d364e0de",
   "metadata": {},
   "outputs": [],
   "source": [
    "df1 = pd.DataFrame({\"HPI\":[80,90,70,60],\"Int_Rate\":[2,1,2,3], \n",
    "                    \"IND_GDP\":[50,45,45,67]}, index=[2001, 2002,2003,2004])\n",
    " \n",
    "df2 = pd.DataFrame({\"HPI\":[80,90,70,60],\"Int_Rate\":[2,1,2,3],\n",
    "                    \"IND_GDP\":[50,45,45,67]}, index=[2005, 2006,2007,2008])\n",
    " \n",
    "concat= pd.concat([df1,df2])\n",
    " \n",
    "concat"
   ]
  },
  {
   "cell_type": "code",
   "execution_count": null,
   "id": "65be2345",
   "metadata": {},
   "outputs": [],
   "source": [
    "df1 = pd.DataFrame({\"HPI\":[80,90,70,60],\"Int_Rate\":[2,1,2,3], \n",
    "                    \"IND_GDP\":[50,45,45,67]}, index=[2001, 2002,2003,2004])\n",
    " \n",
    "df2 = pd.DataFrame({\"HPI\":[80,90,70,60],\"Int_Rate\":[2,1,2,3],\n",
    "                    \"IND_GDP\":[50,45,45,67]}, index=[2005, 2006,2007,2008])\n",
    " \n",
    "concat= pd.concat([df1,df2],axis=1)\n",
    " \n",
    "concat"
   ]
  },
  {
   "cell_type": "code",
   "execution_count": null,
   "id": "514975a3",
   "metadata": {},
   "outputs": [],
   "source": [
    "import pandas as pd\n",
    " \n",
    "df= pd.DataFrame({\"Day\":[1,2,3,4], \"Visitors\":[200, 100,230,300], \n",
    "                  \"Bounce_Rate\":[20,45,60,10]}) \n",
    " \n",
    "df.set_index(\"Day\", inplace= True)\n",
    " \n",
    "df"
   ]
  },
  {
   "cell_type": "code",
   "execution_count": null,
   "id": "ad8dc5fc",
   "metadata": {},
   "outputs": [],
   "source": [
    "import pandas as pd\n",
    " \n",
    "df = pd.DataFrame({\"Day\":[1,2,3,4], \"Visitors\":[200, 100,230,300], \n",
    "                   \"Bounce_Rate\":[20,45,60,10]})\n",
    " \n",
    "df = df.rename(columns={\"Visitors\":\"Users\"})\n",
    " \n",
    "df"
   ]
  },
  {
   "cell_type": "code",
   "execution_count": null,
   "id": "b2bc5e92",
   "metadata": {},
   "outputs": [],
   "source": [
    "import pandas as pd\n",
    " \n",
    "country= pd.read_csv(\"API_ILO_country_YU.csv\",index_col=0)\n",
    " \n",
    "country.head()"
   ]
  },
  {
   "cell_type": "code",
   "execution_count": null,
   "id": "e053ab8c",
   "metadata": {},
   "outputs": [],
   "source": [
    "country.to_html('edu.html')"
   ]
  },
  {
   "cell_type": "markdown",
   "id": "0c818dba",
   "metadata": {},
   "source": [
    "### Matplotlib"
   ]
  },
  {
   "cell_type": "code",
   "execution_count": null,
   "id": "9b561444",
   "metadata": {},
   "outputs": [],
   "source": [
    "import matplotlib\n",
    "\n",
    "print(matplotlib.__version__)"
   ]
  },
  {
   "cell_type": "code",
   "execution_count": null,
   "id": "41a1d7d3",
   "metadata": {},
   "outputs": [],
   "source": [
    "import matplotlib.pyplot as plt\n",
    "import numpy as np"
   ]
  },
  {
   "cell_type": "code",
   "execution_count": null,
   "id": "71cec488",
   "metadata": {},
   "outputs": [],
   "source": [
    "#the figure has 1 row, 2 columns, and this plot is the first plot.\n",
    "plt.subplot(1, 2, 1)"
   ]
  },
  {
   "cell_type": "code",
   "execution_count": null,
   "id": "0ba61493",
   "metadata": {},
   "outputs": [],
   "source": [
    "#the figure has 1 row, 2 columns, and this plot is the second plot.\n",
    "plt.subplot(1, 2, 2)"
   ]
  },
  {
   "cell_type": "code",
   "execution_count": null,
   "id": "9a753d93",
   "metadata": {},
   "outputs": [],
   "source": [
    "import matplotlib.pyplot as plt\n",
    "import numpy as np\n",
    "\n",
    "#plot 1:\n",
    "x = np.array([0, 1, 2, 3])\n",
    "y = np.array([3, 8, 1, 10])\n",
    "\n",
    "plt.subplot(1, 2, 1)\n",
    "plt.plot(x,y)\n",
    "\n",
    "#plot 2:\n",
    "x = np.array([0, 1, 2, 3])\n",
    "y = np.array([10, 20, 30, 40])\n",
    "\n",
    "plt.subplot(1, 2, 2)\n",
    "plt.plot(x,y)\n",
    "\n",
    "plt.show()"
   ]
  },
  {
   "cell_type": "code",
   "execution_count": null,
   "id": "e43b7824",
   "metadata": {},
   "outputs": [],
   "source": [
    "import matplotlib.pyplot as plt\n",
    "import numpy as np\n",
    "\n",
    "#plot 1:\n",
    "x = np.array([0, 1, 2, 3])\n",
    "y = np.array([3, 8, 1, 10])\n",
    "\n",
    "plt.subplot(2, 1, 1)\n",
    "plt.plot(x,y)\n",
    "\n",
    "#plot 2:\n",
    "x = np.array([0, 1, 2, 3])\n",
    "y = np.array([10, 20, 30, 40])\n",
    "\n",
    "plt.subplot(2, 1, 2)\n",
    "plt.plot(x,y)\n",
    "\n",
    "plt.show()"
   ]
  },
  {
   "cell_type": "code",
   "execution_count": null,
   "id": "cb289e1d",
   "metadata": {},
   "outputs": [],
   "source": [
    "import matplotlib.pyplot as plt\n",
    "import numpy as np\n",
    "\n",
    "x = np.array([0, 1, 2, 3])\n",
    "y = np.array([3, 8, 1, 10])\n",
    "\n",
    "plt.subplot(2, 3, 1)\n",
    "plt.plot(x,y)\n",
    "\n",
    "x = np.array([0, 1, 2, 3])\n",
    "y = np.array([10, 20, 30, 40])\n",
    "\n",
    "plt.subplot(2, 3, 2)\n",
    "plt.plot(x,y)\n",
    "\n",
    "x = np.array([0, 1, 2, 3])\n",
    "y = np.array([3, 8, 1, 10])\n",
    "\n",
    "plt.subplot(2, 3, 3)\n",
    "plt.plot(x,y)\n",
    "\n",
    "x = np.array([0, 1, 2, 3])\n",
    "y = np.array([10, 20, 30, 40])\n",
    "\n",
    "plt.subplot(2, 3, 4)\n",
    "plt.plot(x,y)\n",
    "\n",
    "x = np.array([0, 1, 2, 3])\n",
    "y = np.array([3, 8, 1, 10])\n",
    "\n",
    "plt.subplot(2, 3, 5)\n",
    "plt.plot(x,y)\n",
    "\n",
    "x = np.array([0, 1, 2, 3])\n",
    "y = np.array([10, 20, 30, 40])\n",
    "\n",
    "plt.subplot(2, 3, 6)\n",
    "plt.plot(x,y)\n",
    "\n",
    "plt.show() "
   ]
  },
  {
   "cell_type": "code",
   "execution_count": null,
   "id": "1fe36bb4",
   "metadata": {},
   "outputs": [],
   "source": [
    "import matplotlib.pyplot as plt\n",
    "import numpy as np\n",
    "\n",
    "#plot 1:\n",
    "x = np.array([0, 1, 2, 3])\n",
    "y = np.array([3, 8, 1, 10])\n",
    "\n",
    "plt.subplot(1, 2, 1)\n",
    "plt.plot(x,y)\n",
    "plt.title(\"SALES\")\n",
    "\n",
    "#plot 2:\n",
    "x = np.array([0, 1, 2, 3])\n",
    "y = np.array([10, 20, 30, 40])\n",
    "\n",
    "plt.subplot(1, 2, 2)\n",
    "plt.plot(x,y)\n",
    "plt.title(\"INCOME\")\n",
    "\n",
    "plt.suptitle(\"MY SHOP\")\n",
    "plt.show()"
   ]
  },
  {
   "cell_type": "markdown",
   "id": "093614f9",
   "metadata": {},
   "source": [
    "### Line Plot"
   ]
  },
  {
   "cell_type": "code",
   "execution_count": null,
   "id": "25e5407d",
   "metadata": {},
   "outputs": [],
   "source": [
    "import matplotlib.pyplot as plt\n",
    "\n",
    "x = [1, 2, 3, 4, 5, 6]\n",
    "y = [1, 5, 3, 5, 7, 8]\n",
    "\n",
    "plt.plot(x, y)\n",
    "plt.show()"
   ]
  },
  {
   "cell_type": "code",
   "execution_count": null,
   "id": "24e9d923",
   "metadata": {},
   "outputs": [],
   "source": [
    "from matplotlib import pyplot as plt\n",
    "from matplotlib import style\n",
    " \n",
    "style.use('ggplot')\n",
    "x = [5,8,10]\n",
    "y = [12,16,6]\n",
    "x2 = [6,9,11]\n",
    "y2 = [6,15,7]\n",
    "plt.plot(x,y,'g',label='line one', linewidth=5)\n",
    "plt.plot(x2,y2,'c',label='line two',linewidth=5)\n",
    "plt.title('Epic Info')\n",
    "plt.ylabel('Y axis')\n",
    "plt.xlabel('X axis')\n",
    "plt.legend()\n",
    "plt.show()"
   ]
  },
  {
   "cell_type": "markdown",
   "id": "1013b1d9",
   "metadata": {},
   "source": [
    "### Histograms"
   ]
  },
  {
   "cell_type": "code",
   "execution_count": null,
   "id": "8a7576dd",
   "metadata": {},
   "outputs": [],
   "source": [
    "population_age = [22,55,62,45,21,22,34,42,42,4,2,102,95,\n",
    "                  85,55,110,120,70,65,55,111,115,80,75,65,\n",
    "                  54,44,43,42,48]\n",
    "bins = [0,10,20,30,40,50,60,70,80,90,100]\n",
    "plt.hist(population_age, bins, histtype='bar', rwidth=0.8)\n",
    "plt.xlabel('age groups')\n",
    "plt.ylabel('Number of people')\n",
    "plt.title('Histogram')\n",
    "plt.show()"
   ]
  },
  {
   "cell_type": "markdown",
   "id": "cbf7e37b",
   "metadata": {},
   "source": [
    "### Bar Plot"
   ]
  },
  {
   "cell_type": "code",
   "execution_count": null,
   "id": "a3db6050",
   "metadata": {},
   "outputs": [],
   "source": [
    "from matplotlib import pyplot as plt\n",
    " \n",
    "plt.bar([0.25,1.25,2.25,3.25,4.25],[50,40,70,80,20],\n",
    "label=\"BMW\",width=.5)\n",
    "plt.bar([.75,1.75,2.75,3.75,4.75],[80,20,20,50,60],\n",
    "label=\"Audi\",width=.5)\n",
    "plt.legend()\n",
    "plt.xlabel('Days')\n",
    "plt.ylabel('Distance (kms)')\n",
    "plt.title('Information')\n",
    "plt.show()"
   ]
  },
  {
   "cell_type": "markdown",
   "id": "740ffe4c",
   "metadata": {},
   "source": [
    "### Scatter Plot"
   ]
  },
  {
   "cell_type": "code",
   "execution_count": null,
   "id": "25758d14",
   "metadata": {},
   "outputs": [],
   "source": [
    "girls_grades = [89, 90, 70, 89, 100, 80, 90, 100, 80, 34]\n",
    "boys_grades = [30, 29, 49, 48, 100, 48, 38, 45, 20, 30]\n",
    "grades_range = [10, 20, 30, 40, 50, 60, 70, 80, 90, 100]\n",
    "fig=plt.figure()\n",
    "ax=fig.add_axes([0,0,1,1])\n",
    "ax.scatter(grades_range, girls_grades, color='r')\n",
    "ax.scatter(grades_range, boys_grades, color='b')\n",
    "ax.set_xlabel('Grades Range')\n",
    "ax.set_ylabel('Grades Scored')\n",
    "ax.set_title('scatter plot')\n",
    "plt.show()"
   ]
  },
  {
   "cell_type": "code",
   "execution_count": null,
   "id": "aeb2ae8e",
   "metadata": {},
   "outputs": [],
   "source": [
    "x = np.array([5,7,8,7,2,17,2,9,4,11,12,9,6]) \n",
    "y = np.array([99,86,87,88,111,86,103,87,94,78,77,85,86]) \n",
    "plt.scatter(x, y)\n",
    "plt.legend() \n",
    "plt.show()"
   ]
  },
  {
   "cell_type": "code",
   "execution_count": null,
   "id": "14b5c480",
   "metadata": {},
   "outputs": [],
   "source": [
    "#create the random values by using numpy \n",
    "values= np.random.normal(100, 20, 300) \n",
    "#creating the plot by boxplot() function which is avilable \n",
    "#in matplotlib\n",
    "plt.boxplot(values,patch_artist=True,vert=True) \n",
    "plt.show()"
   ]
  },
  {
   "cell_type": "code",
   "execution_count": null,
   "id": "c6590db9",
   "metadata": {},
   "outputs": [],
   "source": [
    "xlist = np.linspace(-3.0, 3.0, 100)\n",
    "ylist = np.linspace(-3.0, 3.0, 100)\n",
    "X, Y = np.meshgrid(xlist, ylist)\n",
    "Z = np.sqrt(X**2 + Y**2)\n",
    "fig,ax=plt.subplots(1,1)\n",
    "cp = ax.contourf(X, Y, Z)\n",
    "fig.colorbar(cp) # Add a colorbar to a plot\n",
    "ax.set_title('Filled Contours Plot')\n",
    "#ax.set_xlabel('x (cm)')\n",
    "ax.set_ylabel('y (cm)')"
   ]
  },
  {
   "cell_type": "markdown",
   "id": "67d36b06",
   "metadata": {},
   "source": [
    "### Reading the files"
   ]
  },
  {
   "cell_type": "code",
   "execution_count": null,
   "id": "238a180b",
   "metadata": {},
   "outputs": [],
   "source": [
    "# Reading csv files\n",
    "import pandas as pd\n",
    "\n",
    "draft1 = pd.read_csv('example_files/ex1.csv')\n",
    "#Supply the file name (path)\n",
    "\n",
    "draft1.head(4)"
   ]
  },
  {
   "cell_type": "code",
   "execution_count": null,
   "id": "7df2c15e",
   "metadata": {},
   "outputs": [],
   "source": [
    "# Reading csv file using read_table function\n",
    "pd.read_table('example_files/ex1.csv', sep=',')"
   ]
  },
  {
   "cell_type": "code",
   "execution_count": null,
   "id": "45f87af1",
   "metadata": {},
   "outputs": [],
   "source": [
    "# Reading csv file without printig headers\n",
    "pd.read_csv('example_files/ex2.csv', header=None)\n",
    "# a b c d column/header will not print"
   ]
  },
  {
   "cell_type": "code",
   "execution_count": null,
   "id": "bd76df6d",
   "metadata": {},
   "outputs": [],
   "source": [
    "df =pd.read_csv('example_files/ex2.csv', \n",
    "                names=['asdfdsfs','fsdf', 'b', 'c', 'sudh', 'message'])\n",
    "df"
   ]
  },
  {
   "cell_type": "code",
   "execution_count": null,
   "id": "46e65368",
   "metadata": {},
   "outputs": [],
   "source": [
    "parsed = pd.read_csv('example_files/csv_mindex.csv',\n",
    "                     index_col=['key1', 'key2'])\n",
    "parsed"
   ]
  },
  {
   "cell_type": "code",
   "execution_count": null,
   "id": "b4448761",
   "metadata": {},
   "outputs": [],
   "source": [
    "# Reading tsv files\n",
    "draft2 = pd.read_table('example_files/test.tsv')  \n",
    "# Read a tsv into a DataFrame\n",
    "\n",
    "draft2.head()"
   ]
  },
  {
   "cell_type": "code",
   "execution_count": null,
   "id": "c2108059",
   "metadata": {},
   "outputs": [],
   "source": [
    "# Reading data from excel file\n",
    "draft3 = pd.read_excel('example_files/Store_Sales_Data.xlsx',\n",
    "                       sheet_name = 'Returns') \n",
    "#Name of sheet to read from for excel file\n",
    "draft3.head(6) "
   ]
  },
  {
   "cell_type": "code",
   "execution_count": null,
   "id": "5898e281",
   "metadata": {},
   "outputs": [],
   "source": [
    "url = \"http://www.basketball-reference.com/leagues/NBA_2015_totals.html\"\n",
    "\n",
    "BB_data = pd.read_html(url)         \n",
    "# Read data from the specified html url through read_html\n",
    "\n",
    "BB_data[0].iloc[:, 0:20].head(5)      \n",
    "# Check 5 rows (10 columns only)"
   ]
  },
  {
   "cell_type": "code",
   "execution_count": null,
   "id": "b59e36a1",
   "metadata": {},
   "outputs": [],
   "source": [
    "chunk_size=50000\n",
    "batch_no=1for chunk in pd.read_csv('yellow_tripdata_2016-02.csv',chunksize=chunk_size):\n",
    "    chunk.to_csv('chunk'+str(batch_no)+'.csv',index=False)\n",
    "    batch_no+=1"
   ]
  },
  {
   "cell_type": "markdown",
   "id": "0455dc51",
   "metadata": {},
   "source": [
    "### Interacting with Databases"
   ]
  },
  {
   "cell_type": "code",
   "execution_count": null,
   "id": "aa681f24",
   "metadata": {},
   "outputs": [],
   "source": [
    "# We will see about database in more detail later in this course.\n",
    "import sqlite3\n",
    "#connecting with the database.\n",
    "db = sqlite3.connect(\"my_database4.db\")\n",
    "# Drop table if it already exist using execute() method.\n",
    "db.execute(\"drop table if exists test\")\n",
    "query = \"\"\"\n",
    "CREATE TABLE test\n",
    "(a VARCHAR(20), b VARCHAR(20),\n",
    " c REAL,        d INTEGER\n",
    ");\"\"\"\n",
    "con = sqlite3.connect('mydata2.sqlite')\n",
    "con.execute(query)\n",
    "con.commit()"
   ]
  },
  {
   "cell_type": "code",
   "execution_count": null,
   "id": "351768b3",
   "metadata": {},
   "outputs": [],
   "source": [
    "data = [('Atlanta', 'Georgia', 1.25, 6),\n",
    "        ('Tallahassee', 'Florida', 2.6, 3),\n",
    "        ('Sacramento', 'California', 1.7, 5)]\n",
    "stmt = \"INSERT INTO test VALUES(?, ?, ?, ?)\"\n",
    "con.executemany(stmt, data)\n",
    "con.commit()"
   ]
  },
  {
   "cell_type": "code",
   "execution_count": null,
   "id": "ff7fdf3a",
   "metadata": {},
   "outputs": [],
   "source": [
    "cursor = con.execute('select * from test')\n",
    "rows = cursor.fetchall()\n",
    "rows"
   ]
  },
  {
   "cell_type": "code",
   "execution_count": null,
   "id": "937689e7",
   "metadata": {},
   "outputs": [],
   "source": [
    "cursor.description\n",
    "\n",
    "# Fetching data from database and convert into pandas dataframe\n",
    "pd.DataFrame(rows, columns=[x[0] for x in cursor.description]) "
   ]
  },
  {
   "cell_type": "code",
   "execution_count": null,
   "id": "56329b3c",
   "metadata": {},
   "outputs": [],
   "source": [
    "#!/usr/bin/python\n",
    "\n",
    "import sqlite3\n",
    "#connecting with the database.\n",
    "db = sqlite3.connect(\"my_database5.db\")\n",
    "# Drop table if it already exist using execute() method.\n",
    "db.execute(\"drop table if exists grades1\")\n",
    "# Create table as per requirement\n",
    "db.execute(\"create table grades1(id int, name text, score int)\")\n",
    "#inserting values inside the created table\n",
    "db.execute(\"insert into grades1(id, name, score) values(101, 'John',99 )\")\n",
    "db.execute(\"insert into grades1(id, name, score) values(102, 'Gary',90 )\")\n",
    "db.execute(\"insert into grades1(id, name, score) values(103, 'James', 80 )\")\n",
    "db.execute(\"insert into grades1(id, name, score) values(104, 'Cathy', 85 )\")\n",
    "db.execute(\"insert into grades1(id, name, score) values(105, 'Kris',95 )\")"
   ]
  },
  {
   "cell_type": "code",
   "execution_count": null,
   "id": "fb76c0d4",
   "metadata": {},
   "outputs": [],
   "source": [
    "db.commit()"
   ]
  },
  {
   "cell_type": "code",
   "execution_count": null,
   "id": "c89c64c4",
   "metadata": {},
   "outputs": [],
   "source": [
    "results = db.execute(\"select * from grades1 order by id\")\n",
    "for row in results:\n",
    "    print((row))\n",
    "print(\"-\" * 60 )"
   ]
  },
  {
   "cell_type": "code",
   "execution_count": null,
   "id": "1b196dee",
   "metadata": {},
   "outputs": [],
   "source": [
    "results = db.execute(\"select * from grades1 where name = 'Gary' \")\n",
    "for row in results: print(row)\n",
    "print(\"-\"* 60 )"
   ]
  },
  {
   "cell_type": "code",
   "execution_count": null,
   "id": "b27bd240",
   "metadata": {},
   "outputs": [],
   "source": [
    "results = db.execute(\"select * from grades1 where score >= 90 \")\n",
    "for row in results:\n",
    "    print(row)\n",
    "print(\"-\" * 60 )"
   ]
  },
  {
   "cell_type": "code",
   "execution_count": null,
   "id": "a21ae946",
   "metadata": {},
   "outputs": [],
   "source": [
    "results = db.execute(\"select name, score from grades1 order by score desc \")\n",
    "for row in results:\n",
    "    print(row)\n",
    "print(\"-\" * 60 )"
   ]
  },
  {
   "cell_type": "code",
   "execution_count": null,
   "id": "b4ee1f06",
   "metadata": {},
   "outputs": [],
   "source": [
    "results = db.execute(\"select name, score from grades1 order by score\")\n",
    "for row in results:\n",
    "    print(row)\n",
    "print(\"-\" * 60 )"
   ]
  },
  {
   "cell_type": "code",
   "execution_count": null,
   "id": "0169f32a",
   "metadata": {},
   "outputs": [],
   "source": [
    "results = db.execute(\"select name, score from grades1 order by score\")\n",
    "for row in results:\n",
    "    print(row)"
   ]
  },
  {
   "cell_type": "code",
   "execution_count": null,
   "id": "f87cd03a",
   "metadata": {},
   "outputs": [],
   "source": []
  }
 ],
 "metadata": {
  "kernelspec": {
   "display_name": "Python 3",
   "language": "python",
   "name": "python3"
  },
  "language_info": {
   "codemirror_mode": {
    "name": "ipython",
    "version": 3
   },
   "file_extension": ".py",
   "mimetype": "text/x-python",
   "name": "python",
   "nbconvert_exporter": "python",
   "pygments_lexer": "ipython3",
   "version": "3.8.8"
  }
 },
 "nbformat": 4,
 "nbformat_minor": 5
}
